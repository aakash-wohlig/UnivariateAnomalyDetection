{
 "cells": [
  {
   "cell_type": "markdown",
   "id": "6a8b1a68",
   "metadata": {},
   "source": [
    "# Anomaly Detection on Superstore Dataset"
   ]
  },
  {
   "cell_type": "markdown",
   "id": "9adac3a3",
   "metadata": {},
   "source": [
    "Importing Libraries"
   ]
  },
  {
   "cell_type": "code",
   "execution_count": 1,
   "id": "3ea42108",
   "metadata": {},
   "outputs": [],
   "source": [
    "import numpy as np\n",
    "import pandas as pd\n",
    "\n",
    "import seaborn as sns\n",
    "import matplotlib.pyplot as plt\n",
    "\n",
    "from sklearn.ensemble import IsolationForest\n",
    "\n",
    "# sns.set()"
   ]
  },
  {
   "cell_type": "code",
   "execution_count": 2,
   "id": "8d32329a",
   "metadata": {},
   "outputs": [],
   "source": [
    "import warnings\n",
    "warnings.filterwarnings(\"ignore\")"
   ]
  },
  {
   "cell_type": "markdown",
   "id": "6af8bd60",
   "metadata": {},
   "source": [
    "## Loading Data Set"
   ]
  },
  {
   "cell_type": "code",
   "execution_count": 3,
   "id": "b0ecd391",
   "metadata": {},
   "outputs": [],
   "source": [
    "df = pd.read_excel('Superstore.xls')"
   ]
  },
  {
   "cell_type": "code",
   "execution_count": 4,
   "id": "cf690a6c",
   "metadata": {},
   "outputs": [
    {
     "data": {
      "text/html": [
       "<div>\n",
       "<style scoped>\n",
       "    .dataframe tbody tr th:only-of-type {\n",
       "        vertical-align: middle;\n",
       "    }\n",
       "\n",
       "    .dataframe tbody tr th {\n",
       "        vertical-align: top;\n",
       "    }\n",
       "\n",
       "    .dataframe thead th {\n",
       "        text-align: right;\n",
       "    }\n",
       "</style>\n",
       "<table border=\"1\" class=\"dataframe\">\n",
       "  <thead>\n",
       "    <tr style=\"text-align: right;\">\n",
       "      <th></th>\n",
       "      <th>Row ID</th>\n",
       "      <th>Order ID</th>\n",
       "      <th>Order Date</th>\n",
       "      <th>Ship Date</th>\n",
       "      <th>Ship Mode</th>\n",
       "      <th>Customer ID</th>\n",
       "      <th>Customer Name</th>\n",
       "      <th>Segment</th>\n",
       "      <th>Country</th>\n",
       "      <th>City</th>\n",
       "      <th>...</th>\n",
       "      <th>Postal Code</th>\n",
       "      <th>Region</th>\n",
       "      <th>Product ID</th>\n",
       "      <th>Category</th>\n",
       "      <th>Sub-Category</th>\n",
       "      <th>Product Name</th>\n",
       "      <th>Sales</th>\n",
       "      <th>Quantity</th>\n",
       "      <th>Discount</th>\n",
       "      <th>Profit</th>\n",
       "    </tr>\n",
       "  </thead>\n",
       "  <tbody>\n",
       "    <tr>\n",
       "      <th>0</th>\n",
       "      <td>1</td>\n",
       "      <td>CA-2016-152156</td>\n",
       "      <td>2016-11-08</td>\n",
       "      <td>2016-11-11</td>\n",
       "      <td>Second Class</td>\n",
       "      <td>CG-12520</td>\n",
       "      <td>Claire Gute</td>\n",
       "      <td>Consumer</td>\n",
       "      <td>United States</td>\n",
       "      <td>Henderson</td>\n",
       "      <td>...</td>\n",
       "      <td>42420</td>\n",
       "      <td>South</td>\n",
       "      <td>FUR-BO-10001798</td>\n",
       "      <td>Furniture</td>\n",
       "      <td>Bookcases</td>\n",
       "      <td>Bush Somerset Collection Bookcase</td>\n",
       "      <td>261.96</td>\n",
       "      <td>2</td>\n",
       "      <td>0.0</td>\n",
       "      <td>41.9136</td>\n",
       "    </tr>\n",
       "    <tr>\n",
       "      <th>1</th>\n",
       "      <td>2</td>\n",
       "      <td>CA-2016-152156</td>\n",
       "      <td>2016-11-08</td>\n",
       "      <td>2016-11-11</td>\n",
       "      <td>Second Class</td>\n",
       "      <td>CG-12520</td>\n",
       "      <td>Claire Gute</td>\n",
       "      <td>Consumer</td>\n",
       "      <td>United States</td>\n",
       "      <td>Henderson</td>\n",
       "      <td>...</td>\n",
       "      <td>42420</td>\n",
       "      <td>South</td>\n",
       "      <td>FUR-CH-10000454</td>\n",
       "      <td>Furniture</td>\n",
       "      <td>Chairs</td>\n",
       "      <td>Hon Deluxe Fabric Upholstered Stacking Chairs,...</td>\n",
       "      <td>731.94</td>\n",
       "      <td>3</td>\n",
       "      <td>0.0</td>\n",
       "      <td>219.5820</td>\n",
       "    </tr>\n",
       "    <tr>\n",
       "      <th>2</th>\n",
       "      <td>3</td>\n",
       "      <td>CA-2016-138688</td>\n",
       "      <td>2016-06-12</td>\n",
       "      <td>2016-06-16</td>\n",
       "      <td>Second Class</td>\n",
       "      <td>DV-13045</td>\n",
       "      <td>Darrin Van Huff</td>\n",
       "      <td>Corporate</td>\n",
       "      <td>United States</td>\n",
       "      <td>Los Angeles</td>\n",
       "      <td>...</td>\n",
       "      <td>90036</td>\n",
       "      <td>West</td>\n",
       "      <td>OFF-LA-10000240</td>\n",
       "      <td>Office Supplies</td>\n",
       "      <td>Labels</td>\n",
       "      <td>Self-Adhesive Address Labels for Typewriters b...</td>\n",
       "      <td>14.62</td>\n",
       "      <td>2</td>\n",
       "      <td>0.0</td>\n",
       "      <td>6.8714</td>\n",
       "    </tr>\n",
       "  </tbody>\n",
       "</table>\n",
       "<p>3 rows × 21 columns</p>\n",
       "</div>"
      ],
      "text/plain": [
       "   Row ID        Order ID Order Date  Ship Date     Ship Mode Customer ID  \\\n",
       "0       1  CA-2016-152156 2016-11-08 2016-11-11  Second Class    CG-12520   \n",
       "1       2  CA-2016-152156 2016-11-08 2016-11-11  Second Class    CG-12520   \n",
       "2       3  CA-2016-138688 2016-06-12 2016-06-16  Second Class    DV-13045   \n",
       "\n",
       "     Customer Name    Segment        Country         City  ... Postal Code  \\\n",
       "0      Claire Gute   Consumer  United States    Henderson  ...       42420   \n",
       "1      Claire Gute   Consumer  United States    Henderson  ...       42420   \n",
       "2  Darrin Van Huff  Corporate  United States  Los Angeles  ...       90036   \n",
       "\n",
       "   Region       Product ID         Category Sub-Category  \\\n",
       "0   South  FUR-BO-10001798        Furniture    Bookcases   \n",
       "1   South  FUR-CH-10000454        Furniture       Chairs   \n",
       "2    West  OFF-LA-10000240  Office Supplies       Labels   \n",
       "\n",
       "                                        Product Name   Sales  Quantity  \\\n",
       "0                  Bush Somerset Collection Bookcase  261.96         2   \n",
       "1  Hon Deluxe Fabric Upholstered Stacking Chairs,...  731.94         3   \n",
       "2  Self-Adhesive Address Labels for Typewriters b...   14.62         2   \n",
       "\n",
       "   Discount    Profit  \n",
       "0       0.0   41.9136  \n",
       "1       0.0  219.5820  \n",
       "2       0.0    6.8714  \n",
       "\n",
       "[3 rows x 21 columns]"
      ]
     },
     "execution_count": 4,
     "metadata": {},
     "output_type": "execute_result"
    }
   ],
   "source": [
    "df.head(3)"
   ]
  },
  {
   "cell_type": "markdown",
   "id": "3c46a7ac",
   "metadata": {},
   "source": [
    "## Check for empty & null values"
   ]
  },
  {
   "cell_type": "code",
   "execution_count": 5,
   "id": "75d97168",
   "metadata": {},
   "outputs": [
    {
     "data": {
      "text/plain": [
       "Row ID           9994\n",
       "Order ID         9994\n",
       "Order Date       9994\n",
       "Ship Date        9994\n",
       "Ship Mode        9994\n",
       "Customer ID      9994\n",
       "Customer Name    9994\n",
       "Segment          9994\n",
       "Country          9994\n",
       "City             9994\n",
       "State            9994\n",
       "Postal Code      9994\n",
       "Region           9994\n",
       "Product ID       9994\n",
       "Category         9994\n",
       "Sub-Category     9994\n",
       "Product Name     9994\n",
       "Sales            9994\n",
       "Quantity         9994\n",
       "Discount         9994\n",
       "Profit           9994\n",
       "dtype: int64"
      ]
     },
     "execution_count": 5,
     "metadata": {},
     "output_type": "execute_result"
    }
   ],
   "source": [
    "df.count()"
   ]
  },
  {
   "cell_type": "code",
   "execution_count": 6,
   "id": "0baff95b",
   "metadata": {},
   "outputs": [
    {
     "data": {
      "text/plain": [
       "Row ID           0\n",
       "Order ID         0\n",
       "Order Date       0\n",
       "Ship Date        0\n",
       "Ship Mode        0\n",
       "Customer ID      0\n",
       "Customer Name    0\n",
       "Segment          0\n",
       "Country          0\n",
       "City             0\n",
       "State            0\n",
       "Postal Code      0\n",
       "Region           0\n",
       "Product ID       0\n",
       "Category         0\n",
       "Sub-Category     0\n",
       "Product Name     0\n",
       "Sales            0\n",
       "Quantity         0\n",
       "Discount         0\n",
       "Profit           0\n",
       "dtype: int64"
      ]
     },
     "execution_count": 6,
     "metadata": {},
     "output_type": "execute_result"
    }
   ],
   "source": [
    "df.isnull().sum()"
   ]
  },
  {
   "cell_type": "markdown",
   "id": "2c7924f8",
   "metadata": {},
   "source": [
    "## Shape of DataSet"
   ]
  },
  {
   "cell_type": "code",
   "execution_count": 7,
   "id": "2e0c8abc",
   "metadata": {},
   "outputs": [
    {
     "data": {
      "text/plain": [
       "(9994, 21)"
      ]
     },
     "execution_count": 7,
     "metadata": {},
     "output_type": "execute_result"
    }
   ],
   "source": [
    "df.shape"
   ]
  },
  {
   "cell_type": "markdown",
   "id": "71a1e2af",
   "metadata": {},
   "source": [
    "## > Sales Analysis"
   ]
  },
  {
   "cell_type": "code",
   "execution_count": 8,
   "id": "80573e17",
   "metadata": {},
   "outputs": [
    {
     "data": {
      "text/plain": [
       "count     9994.000000\n",
       "mean       229.858001\n",
       "std        623.245101\n",
       "min          0.444000\n",
       "25%         17.280000\n",
       "50%         54.490000\n",
       "75%        209.940000\n",
       "max      22638.480000\n",
       "Name: Sales, dtype: float64"
      ]
     },
     "execution_count": 8,
     "metadata": {},
     "output_type": "execute_result"
    }
   ],
   "source": [
    "df['Sales'].describe()"
   ]
  },
  {
   "cell_type": "code",
   "execution_count": 89,
   "id": "5bf57ce0",
   "metadata": {},
   "outputs": [
    {
     "data": {
      "image/png": "[encoded data removed]",
      "text/plain": [
       "<Figure size 432x288 with 1 Axes>"
      ]
     },
     "metadata": {
      "needs_background": "light"
     },
     "output_type": "display_data"
    }
   ],
   "source": [
    "plt.scatter(range(df.shape[0]), np.sort(df['Sales'].values))\n",
    "plt.xlabel('Index')\n",
    "plt.ylabel('Sales')\n",
    "plt.title(\"Sales distribution\")\n",
    "sns.despine()"
   ]
  },
  {
   "cell_type": "code",
   "execution_count": 10,
   "id": "9b558132",
   "metadata": {},
   "outputs": [
    {
     "data": {
      "image/png": "[encoded data removed]",
      "text/plain": [
       "<Figure size 432x288 with 1 Axes>"
      ]
     },
     "metadata": {
      "needs_background": "light"
     },
     "output_type": "display_data"
    }
   ],
   "source": [
    "sns.distplot(df['Sales'])\n",
    "plt.title(\"Distribution of Sales\")\n",
    "sns.despine()"
   ]
  },
  {
   "cell_type": "code",
   "execution_count": 11,
   "id": "6db5cf11",
   "metadata": {
    "scrolled": true
   },
   "outputs": [
    {
     "name": "stdout",
     "output_type": "stream",
     "text": [
      "Skewness: 12.972752341816228\n",
      "Kurtosis: 305.31175324682283\n"
     ]
    }
   ],
   "source": [
    "print(f\"Skewness: {df['Sales'].skew()}\")\n",
    "print(f\"Kurtosis: {df['Sales'].kurt()}\")"
   ]
  },
  {
   "cell_type": "markdown",
   "id": "6ad76c89",
   "metadata": {},
   "source": [
    "## Z Score for Sales"
   ]
  },
  {
   "cell_type": "code",
   "execution_count": 29,
   "id": "4e3668e1",
   "metadata": {},
   "outputs": [],
   "source": [
    "df['Z_Sales'] = 0\n",
    "mean_sales = 229.858001\n",
    "std_sales = 623.245101\n",
    "for ind in df.index:\n",
    "    z = (df['Sales'][ind] - mean_sales)/ std_sales\n",
    "    df.iloc[ind, -1] = z"
   ]
  },
  {
   "cell_type": "code",
   "execution_count": 32,
   "id": "ff720da2",
   "metadata": {},
   "outputs": [
    {
     "data": {
      "image/png": "[encoded data removed]",
      "text/plain": [
       "<Figure size 432x288 with 1 Axes>"
      ]
     },
     "metadata": {
      "needs_background": "light"
     },
     "output_type": "display_data"
    }
   ],
   "source": [
    "plt.scatter(range(df.shape[0]), np.sort(df['Z_Sales'].values))\n",
    "plt.xlabel('Index')\n",
    "plt.ylabel('Z_Sales')\n",
    "plt.title(\"Sales distribution\")\n",
    "sns.despine()"
   ]
  },
  {
   "cell_type": "code",
   "execution_count": 61,
   "id": "670a6c0e",
   "metadata": {},
   "outputs": [
    {
     "data": {
      "text/plain": [
       "(247, 23)"
      ]
     },
     "execution_count": 61,
     "metadata": {},
     "output_type": "execute_result"
    }
   ],
   "source": [
    "df.loc[df['Z_Sales'] > 2].shape"
   ]
  },
  {
   "cell_type": "code",
   "execution_count": 62,
   "id": "f445afc2",
   "metadata": {},
   "outputs": [
    {
     "data": {
      "text/html": [
       "<div>\n",
       "<style scoped>\n",
       "    .dataframe tbody tr th:only-of-type {\n",
       "        vertical-align: middle;\n",
       "    }\n",
       "\n",
       "    .dataframe tbody tr th {\n",
       "        vertical-align: top;\n",
       "    }\n",
       "\n",
       "    .dataframe thead th {\n",
       "        text-align: right;\n",
       "    }\n",
       "</style>\n",
       "<table border=\"1\" class=\"dataframe\">\n",
       "  <thead>\n",
       "    <tr style=\"text-align: right;\">\n",
       "      <th></th>\n",
       "      <th>Row ID</th>\n",
       "      <th>Order ID</th>\n",
       "      <th>Order Date</th>\n",
       "      <th>Ship Date</th>\n",
       "      <th>Ship Mode</th>\n",
       "      <th>Customer ID</th>\n",
       "      <th>Customer Name</th>\n",
       "      <th>Segment</th>\n",
       "      <th>Country</th>\n",
       "      <th>City</th>\n",
       "      <th>...</th>\n",
       "      <th>Product ID</th>\n",
       "      <th>Category</th>\n",
       "      <th>Sub-Category</th>\n",
       "      <th>Product Name</th>\n",
       "      <th>Sales</th>\n",
       "      <th>Quantity</th>\n",
       "      <th>Discount</th>\n",
       "      <th>Profit</th>\n",
       "      <th>Z_Sales</th>\n",
       "      <th>Z_Profit</th>\n",
       "    </tr>\n",
       "  </thead>\n",
       "  <tbody>\n",
       "    <tr>\n",
       "      <th>10</th>\n",
       "      <td>11</td>\n",
       "      <td>CA-2014-115812</td>\n",
       "      <td>2014-06-09</td>\n",
       "      <td>2014-06-14</td>\n",
       "      <td>Standard Class</td>\n",
       "      <td>BH-11710</td>\n",
       "      <td>Brosina Hoffman</td>\n",
       "      <td>Consumer</td>\n",
       "      <td>United States</td>\n",
       "      <td>Los Angeles</td>\n",
       "      <td>...</td>\n",
       "      <td>FUR-TA-10001539</td>\n",
       "      <td>Furniture</td>\n",
       "      <td>Tables</td>\n",
       "      <td>Chromcraft Rectangular Conference Tables</td>\n",
       "      <td>1706.184</td>\n",
       "      <td>9</td>\n",
       "      <td>0.2</td>\n",
       "      <td>85.3092</td>\n",
       "      <td>2.368773</td>\n",
       "      <td>0.241835</td>\n",
       "    </tr>\n",
       "    <tr>\n",
       "      <th>27</th>\n",
       "      <td>28</td>\n",
       "      <td>US-2015-150630</td>\n",
       "      <td>2015-09-17</td>\n",
       "      <td>2015-09-21</td>\n",
       "      <td>Standard Class</td>\n",
       "      <td>TB-21520</td>\n",
       "      <td>Tracy Blumstein</td>\n",
       "      <td>Consumer</td>\n",
       "      <td>United States</td>\n",
       "      <td>Philadelphia</td>\n",
       "      <td>...</td>\n",
       "      <td>FUR-BO-10004834</td>\n",
       "      <td>Furniture</td>\n",
       "      <td>Bookcases</td>\n",
       "      <td>Riverside Palais Royal Lawyers Bookcase, Royal...</td>\n",
       "      <td>3083.430</td>\n",
       "      <td>7</td>\n",
       "      <td>0.5</td>\n",
       "      <td>-1665.0522</td>\n",
       "      <td>4.578571</td>\n",
       "      <td>-7.230036</td>\n",
       "    </tr>\n",
       "    <tr>\n",
       "      <th>149</th>\n",
       "      <td>150</td>\n",
       "      <td>CA-2016-114489</td>\n",
       "      <td>2016-12-05</td>\n",
       "      <td>2016-12-09</td>\n",
       "      <td>Standard Class</td>\n",
       "      <td>JE-16165</td>\n",
       "      <td>Justin Ellison</td>\n",
       "      <td>Corporate</td>\n",
       "      <td>United States</td>\n",
       "      <td>Franklin</td>\n",
       "      <td>...</td>\n",
       "      <td>FUR-CH-10000454</td>\n",
       "      <td>Furniture</td>\n",
       "      <td>Chairs</td>\n",
       "      <td>Hon Deluxe Fabric Upholstered Stacking Chairs,...</td>\n",
       "      <td>1951.840</td>\n",
       "      <td>8</td>\n",
       "      <td>0.0</td>\n",
       "      <td>585.5520</td>\n",
       "      <td>2.762929</td>\n",
       "      <td>2.377251</td>\n",
       "    </tr>\n",
       "  </tbody>\n",
       "</table>\n",
       "<p>3 rows × 23 columns</p>\n",
       "</div>"
      ],
      "text/plain": [
       "     Row ID        Order ID Order Date  Ship Date       Ship Mode Customer ID  \\\n",
       "10       11  CA-2014-115812 2014-06-09 2014-06-14  Standard Class    BH-11710   \n",
       "27       28  US-2015-150630 2015-09-17 2015-09-21  Standard Class    TB-21520   \n",
       "149     150  CA-2016-114489 2016-12-05 2016-12-09  Standard Class    JE-16165   \n",
       "\n",
       "       Customer Name    Segment        Country          City  ...  \\\n",
       "10   Brosina Hoffman   Consumer  United States   Los Angeles  ...   \n",
       "27   Tracy Blumstein   Consumer  United States  Philadelphia  ...   \n",
       "149   Justin Ellison  Corporate  United States      Franklin  ...   \n",
       "\n",
       "          Product ID   Category Sub-Category  \\\n",
       "10   FUR-TA-10001539  Furniture       Tables   \n",
       "27   FUR-BO-10004834  Furniture    Bookcases   \n",
       "149  FUR-CH-10000454  Furniture       Chairs   \n",
       "\n",
       "                                          Product Name     Sales Quantity  \\\n",
       "10            Chromcraft Rectangular Conference Tables  1706.184        9   \n",
       "27   Riverside Palais Royal Lawyers Bookcase, Royal...  3083.430        7   \n",
       "149  Hon Deluxe Fabric Upholstered Stacking Chairs,...  1951.840        8   \n",
       "\n",
       "    Discount     Profit   Z_Sales  Z_Profit  \n",
       "10       0.2    85.3092  2.368773  0.241835  \n",
       "27       0.5 -1665.0522  4.578571 -7.230036  \n",
       "149      0.0   585.5520  2.762929  2.377251  \n",
       "\n",
       "[3 rows x 23 columns]"
      ]
     },
     "execution_count": 62,
     "metadata": {},
     "output_type": "execute_result"
    }
   ],
   "source": [
    "df.loc[df['Z_Sales'] > 2].head(3)"
   ]
  },
  {
   "cell_type": "code",
   "execution_count": 37,
   "id": "da30d426",
   "metadata": {},
   "outputs": [
    {
     "data": {
      "text/plain": [
       "Row ID                                                 11\n",
       "Order ID                                   CA-2014-115812\n",
       "Order Date                            2014-06-09 00:00:00\n",
       "Ship Date                             2014-06-14 00:00:00\n",
       "Ship Mode                                  Standard Class\n",
       "Customer ID                                      BH-11710\n",
       "Customer Name                             Brosina Hoffman\n",
       "Segment                                          Consumer\n",
       "Country                                     United States\n",
       "City                                          Los Angeles\n",
       "State                                          California\n",
       "Postal Code                                         90032\n",
       "Region                                               West\n",
       "Product ID                                FUR-TA-10001539\n",
       "Category                                        Furniture\n",
       "Sub-Category                                       Tables\n",
       "Product Name     Chromcraft Rectangular Conference Tables\n",
       "Sales                                            1706.184\n",
       "Quantity                                                9\n",
       "Discount                                              0.2\n",
       "Profit                                            85.3092\n",
       "Z_Sales                                          2.368773\n",
       "Name: 10, dtype: object"
      ]
     },
     "execution_count": 37,
     "metadata": {},
     "output_type": "execute_result"
    }
   ],
   "source": [
    "df.iloc[10]"
   ]
  },
  {
   "cell_type": "markdown",
   "id": "ed73c916",
   "metadata": {},
   "source": [
    "## Boxplot "
   ]
  },
  {
   "cell_type": "code",
   "execution_count": 67,
   "id": "ca4f3ec3",
   "metadata": {},
   "outputs": [
    {
     "data": {
      "text/plain": [
       "<AxesSubplot:xlabel='Sales'>"
      ]
     },
     "execution_count": 67,
     "metadata": {},
     "output_type": "execute_result"
    },
    {
     "data": {
      "image/png": "[encoded data removed]",
      "text/plain": [
       "<Figure size 432x288 with 1 Axes>"
      ]
     },
     "metadata": {
      "needs_background": "light"
     },
     "output_type": "display_data"
    }
   ],
   "source": [
    "sns.boxplot(df['Sales'])"
   ]
  },
  {
   "cell_type": "markdown",
   "id": "3b385868",
   "metadata": {},
   "source": [
    "## Isolation Forest"
   ]
  },
  {
   "cell_type": "code",
   "execution_count": 116,
   "id": "39592899",
   "metadata": {},
   "outputs": [],
   "source": [
    "from sklearn.ensemble import IsolationForest"
   ]
  },
  {
   "cell_type": "code",
   "execution_count": 117,
   "id": "78dff001",
   "metadata": {},
   "outputs": [
    {
     "data": {
      "image/png": "[encoded data removed]",
      "text/plain": [
       "<Figure size 720x288 with 1 Axes>"
      ]
     },
     "metadata": {
      "needs_background": "light"
     },
     "output_type": "display_data"
    }
   ],
   "source": [
    "isolation_forest = IsolationForest(n_estimators=100)\n",
    "isolation_forest.fit(df['Sales'].values.reshape(-1, 1))\n",
    "xx = np.linspace(df['Sales'].min(), df['Sales'].max(), len(df)).reshape(-1,1)\n",
    "anomaly_score = isolation_forest.decision_function(xx)\n",
    "outlier = isolation_forest.predict(xx)\n",
    "plt.figure(figsize=(10,4))\n",
    "plt.plot(xx, anomaly_score, label='anomaly score')\n",
    "plt.fill_between(xx.T[0], np.min(anomaly_score), np.max(anomaly_score), \n",
    "                 where=outlier==-1, color='r', \n",
    "                 alpha=.4, label='outlier region')\n",
    "plt.legend()\n",
    "plt.ylabel('anomaly score')\n",
    "plt.xlabel('Sales')\n",
    "plt.show();"
   ]
  },
  {
   "cell_type": "code",
   "execution_count": 118,
   "id": "9665f9f6",
   "metadata": {},
   "outputs": [
    {
     "data": {
      "text/html": [
       "<div>\n",
       "<style scoped>\n",
       "    .dataframe tbody tr th:only-of-type {\n",
       "        vertical-align: middle;\n",
       "    }\n",
       "\n",
       "    .dataframe tbody tr th {\n",
       "        vertical-align: top;\n",
       "    }\n",
       "\n",
       "    .dataframe thead th {\n",
       "        text-align: right;\n",
       "    }\n",
       "</style>\n",
       "<table border=\"1\" class=\"dataframe\">\n",
       "  <thead>\n",
       "    <tr style=\"text-align: right;\">\n",
       "      <th></th>\n",
       "      <th>Row ID</th>\n",
       "      <th>Order ID</th>\n",
       "      <th>Order Date</th>\n",
       "      <th>Ship Date</th>\n",
       "      <th>Ship Mode</th>\n",
       "      <th>Customer ID</th>\n",
       "      <th>Customer Name</th>\n",
       "      <th>Segment</th>\n",
       "      <th>Country</th>\n",
       "      <th>City</th>\n",
       "      <th>...</th>\n",
       "      <th>Product ID</th>\n",
       "      <th>Category</th>\n",
       "      <th>Sub-Category</th>\n",
       "      <th>Product Name</th>\n",
       "      <th>Sales</th>\n",
       "      <th>Quantity</th>\n",
       "      <th>Discount</th>\n",
       "      <th>Profit</th>\n",
       "      <th>Z_Sales</th>\n",
       "      <th>Z_Profit</th>\n",
       "    </tr>\n",
       "  </thead>\n",
       "  <tbody>\n",
       "    <tr>\n",
       "      <th>10</th>\n",
       "      <td>11</td>\n",
       "      <td>CA-2014-115812</td>\n",
       "      <td>2014-06-09</td>\n",
       "      <td>2014-06-14</td>\n",
       "      <td>Standard Class</td>\n",
       "      <td>BH-11710</td>\n",
       "      <td>Brosina Hoffman</td>\n",
       "      <td>Consumer</td>\n",
       "      <td>United States</td>\n",
       "      <td>Los Angeles</td>\n",
       "      <td>...</td>\n",
       "      <td>FUR-TA-10001539</td>\n",
       "      <td>Furniture</td>\n",
       "      <td>Tables</td>\n",
       "      <td>Chromcraft Rectangular Conference Tables</td>\n",
       "      <td>1706.184</td>\n",
       "      <td>9</td>\n",
       "      <td>0.2</td>\n",
       "      <td>85.3092</td>\n",
       "      <td>2.368773</td>\n",
       "      <td>0.241835</td>\n",
       "    </tr>\n",
       "    <tr>\n",
       "      <th>27</th>\n",
       "      <td>28</td>\n",
       "      <td>US-2015-150630</td>\n",
       "      <td>2015-09-17</td>\n",
       "      <td>2015-09-21</td>\n",
       "      <td>Standard Class</td>\n",
       "      <td>TB-21520</td>\n",
       "      <td>Tracy Blumstein</td>\n",
       "      <td>Consumer</td>\n",
       "      <td>United States</td>\n",
       "      <td>Philadelphia</td>\n",
       "      <td>...</td>\n",
       "      <td>FUR-BO-10004834</td>\n",
       "      <td>Furniture</td>\n",
       "      <td>Bookcases</td>\n",
       "      <td>Riverside Palais Royal Lawyers Bookcase, Royal...</td>\n",
       "      <td>3083.430</td>\n",
       "      <td>7</td>\n",
       "      <td>0.5</td>\n",
       "      <td>-1665.0522</td>\n",
       "      <td>4.578571</td>\n",
       "      <td>-7.230036</td>\n",
       "    </tr>\n",
       "    <tr>\n",
       "      <th>149</th>\n",
       "      <td>150</td>\n",
       "      <td>CA-2016-114489</td>\n",
       "      <td>2016-12-05</td>\n",
       "      <td>2016-12-09</td>\n",
       "      <td>Standard Class</td>\n",
       "      <td>JE-16165</td>\n",
       "      <td>Justin Ellison</td>\n",
       "      <td>Corporate</td>\n",
       "      <td>United States</td>\n",
       "      <td>Franklin</td>\n",
       "      <td>...</td>\n",
       "      <td>FUR-CH-10000454</td>\n",
       "      <td>Furniture</td>\n",
       "      <td>Chairs</td>\n",
       "      <td>Hon Deluxe Fabric Upholstered Stacking Chairs,...</td>\n",
       "      <td>1951.840</td>\n",
       "      <td>8</td>\n",
       "      <td>0.0</td>\n",
       "      <td>585.5520</td>\n",
       "      <td>2.762929</td>\n",
       "      <td>2.377251</td>\n",
       "    </tr>\n",
       "    <tr>\n",
       "      <th>165</th>\n",
       "      <td>166</td>\n",
       "      <td>CA-2014-139892</td>\n",
       "      <td>2014-09-08</td>\n",
       "      <td>2014-09-12</td>\n",
       "      <td>Standard Class</td>\n",
       "      <td>BM-11140</td>\n",
       "      <td>Becky Martin</td>\n",
       "      <td>Consumer</td>\n",
       "      <td>United States</td>\n",
       "      <td>San Antonio</td>\n",
       "      <td>...</td>\n",
       "      <td>TEC-MA-10000822</td>\n",
       "      <td>Technology</td>\n",
       "      <td>Machines</td>\n",
       "      <td>Lexmark MX611dhe Monochrome Laser Printer</td>\n",
       "      <td>8159.952</td>\n",
       "      <td>8</td>\n",
       "      <td>0.4</td>\n",
       "      <td>-1359.9920</td>\n",
       "      <td>12.723877</td>\n",
       "      <td>-5.927808</td>\n",
       "    </tr>\n",
       "    <tr>\n",
       "      <th>167</th>\n",
       "      <td>168</td>\n",
       "      <td>CA-2014-139892</td>\n",
       "      <td>2014-09-08</td>\n",
       "      <td>2014-09-12</td>\n",
       "      <td>Standard Class</td>\n",
       "      <td>BM-11140</td>\n",
       "      <td>Becky Martin</td>\n",
       "      <td>Consumer</td>\n",
       "      <td>United States</td>\n",
       "      <td>San Antonio</td>\n",
       "      <td>...</td>\n",
       "      <td>FUR-CH-10004287</td>\n",
       "      <td>Furniture</td>\n",
       "      <td>Chairs</td>\n",
       "      <td>SAFCO Arco Folding Chair</td>\n",
       "      <td>1740.060</td>\n",
       "      <td>9</td>\n",
       "      <td>0.3</td>\n",
       "      <td>-24.8580</td>\n",
       "      <td>2.423127</td>\n",
       "      <td>-0.228442</td>\n",
       "    </tr>\n",
       "  </tbody>\n",
       "</table>\n",
       "<p>5 rows × 23 columns</p>\n",
       "</div>"
      ],
      "text/plain": [
       "     Row ID        Order ID Order Date  Ship Date       Ship Mode Customer ID  \\\n",
       "10       11  CA-2014-115812 2014-06-09 2014-06-14  Standard Class    BH-11710   \n",
       "27       28  US-2015-150630 2015-09-17 2015-09-21  Standard Class    TB-21520   \n",
       "149     150  CA-2016-114489 2016-12-05 2016-12-09  Standard Class    JE-16165   \n",
       "165     166  CA-2014-139892 2014-09-08 2014-09-12  Standard Class    BM-11140   \n",
       "167     168  CA-2014-139892 2014-09-08 2014-09-12  Standard Class    BM-11140   \n",
       "\n",
       "       Customer Name    Segment        Country          City  ...  \\\n",
       "10   Brosina Hoffman   Consumer  United States   Los Angeles  ...   \n",
       "27   Tracy Blumstein   Consumer  United States  Philadelphia  ...   \n",
       "149   Justin Ellison  Corporate  United States      Franklin  ...   \n",
       "165     Becky Martin   Consumer  United States   San Antonio  ...   \n",
       "167     Becky Martin   Consumer  United States   San Antonio  ...   \n",
       "\n",
       "          Product ID    Category Sub-Category  \\\n",
       "10   FUR-TA-10001539   Furniture       Tables   \n",
       "27   FUR-BO-10004834   Furniture    Bookcases   \n",
       "149  FUR-CH-10000454   Furniture       Chairs   \n",
       "165  TEC-MA-10000822  Technology     Machines   \n",
       "167  FUR-CH-10004287   Furniture       Chairs   \n",
       "\n",
       "                                          Product Name     Sales Quantity  \\\n",
       "10            Chromcraft Rectangular Conference Tables  1706.184        9   \n",
       "27   Riverside Palais Royal Lawyers Bookcase, Royal...  3083.430        7   \n",
       "149  Hon Deluxe Fabric Upholstered Stacking Chairs,...  1951.840        8   \n",
       "165          Lexmark MX611dhe Monochrome Laser Printer  8159.952        8   \n",
       "167                           SAFCO Arco Folding Chair  1740.060        9   \n",
       "\n",
       "    Discount     Profit    Z_Sales  Z_Profit  \n",
       "10       0.2    85.3092   2.368773  0.241835  \n",
       "27       0.5 -1665.0522   4.578571 -7.230036  \n",
       "149      0.0   585.5520   2.762929  2.377251  \n",
       "165      0.4 -1359.9920  12.723877 -5.927808  \n",
       "167      0.3   -24.8580   2.423127 -0.228442  \n",
       "\n",
       "[5 rows x 23 columns]"
      ]
     },
     "execution_count": 118,
     "metadata": {},
     "output_type": "execute_result"
    }
   ],
   "source": [
    "df.loc[df['Sales'] > 1500].head()"
   ]
  },
  {
   "cell_type": "code",
   "execution_count": 119,
   "id": "19109afa",
   "metadata": {},
   "outputs": [
    {
     "data": {
      "text/plain": [
       "Row ID                                                 11\n",
       "Order ID                                   CA-2014-115812\n",
       "Order Date                            2014-06-09 00:00:00\n",
       "Ship Date                             2014-06-14 00:00:00\n",
       "Ship Mode                                  Standard Class\n",
       "Customer ID                                      BH-11710\n",
       "Customer Name                             Brosina Hoffman\n",
       "Segment                                          Consumer\n",
       "Country                                     United States\n",
       "City                                          Los Angeles\n",
       "State                                          California\n",
       "Postal Code                                         90032\n",
       "Region                                               West\n",
       "Product ID                                FUR-TA-10001539\n",
       "Category                                        Furniture\n",
       "Sub-Category                                       Tables\n",
       "Product Name     Chromcraft Rectangular Conference Tables\n",
       "Sales                                            1706.184\n",
       "Quantity                                                9\n",
       "Discount                                              0.2\n",
       "Profit                                            85.3092\n",
       "Z_Sales                                          2.368773\n",
       "Z_Profit                                         0.241835\n",
       "Name: 10, dtype: object"
      ]
     },
     "execution_count": 119,
     "metadata": {},
     "output_type": "execute_result"
    }
   ],
   "source": [
    "df.iloc[10]"
   ]
  },
  {
   "cell_type": "markdown",
   "id": "2f165cfe",
   "metadata": {},
   "source": [
    "## > Profit Analysis"
   ]
  },
  {
   "cell_type": "code",
   "execution_count": 12,
   "id": "08c08911",
   "metadata": {},
   "outputs": [
    {
     "data": {
      "text/plain": [
       "count    9994.000000\n",
       "mean       28.656896\n",
       "std       234.260108\n",
       "min     -6599.978000\n",
       "25%         1.728750\n",
       "50%         8.666500\n",
       "75%        29.364000\n",
       "max      8399.976000\n",
       "Name: Profit, dtype: float64"
      ]
     },
     "execution_count": 12,
     "metadata": {},
     "output_type": "execute_result"
    }
   ],
   "source": [
    "df['Profit'].describe()"
   ]
  },
  {
   "cell_type": "code",
   "execution_count": 13,
   "id": "6770fb29",
   "metadata": {},
   "outputs": [
    {
     "data": {
      "image/png": "[encoded data removed]",
      "text/plain": [
       "<Figure size 432x288 with 1 Axes>"
      ]
     },
     "metadata": {
      "needs_background": "light"
     },
     "output_type": "display_data"
    }
   ],
   "source": [
    "plt.scatter(range(df.shape[0]), np.sort(df['Profit'].values))\n",
    "plt.xlabel('Index')\n",
    "plt.ylabel('Profit')\n",
    "plt.title(\"Profit distribution\")\n",
    "sns.despine()"
   ]
  },
  {
   "cell_type": "code",
   "execution_count": 14,
   "id": "bdaa519b",
   "metadata": {},
   "outputs": [
    {
     "data": {
      "image/png": "[encoded data removed]",
      "text/plain": [
       "<Figure size 432x288 with 1 Axes>"
      ]
     },
     "metadata": {
      "needs_background": "light"
     },
     "output_type": "display_data"
    }
   ],
   "source": [
    "sns.distplot(df['Profit'])\n",
    "plt.title(\"Distribution of Profit\")\n",
    "sns.despine()"
   ]
  },
  {
   "cell_type": "code",
   "execution_count": 15,
   "id": "99a179dc",
   "metadata": {},
   "outputs": [
    {
     "name": "stdout",
     "output_type": "stream",
     "text": [
      "Skewness: 7.561431562468336\n",
      "Kurtosis: 397.188514552414\n"
     ]
    }
   ],
   "source": [
    "print(f\"Skewness: {df['Profit'].skew()}\")\n",
    "print(f\"Kurtosis: {df['Profit'].kurt()}\")"
   ]
  },
  {
   "cell_type": "markdown",
   "id": "79b43931",
   "metadata": {},
   "source": [
    "## Z Score for Profit"
   ]
  },
  {
   "cell_type": "code",
   "execution_count": 63,
   "id": "f2bd3e53",
   "metadata": {},
   "outputs": [],
   "source": [
    "df['Z_Profit'] = 0\n",
    "mean_sales = 28.656896\n",
    "std_sales = 234.260108\n",
    "for ind in df.index:\n",
    "    z = (df['Profit'][ind] - mean_sales)/ std_sales\n",
    "    df.iloc[ind, -1] = z        "
   ]
  },
  {
   "cell_type": "code",
   "execution_count": 64,
   "id": "767f18ea",
   "metadata": {},
   "outputs": [
    {
     "data": {
      "image/png": "[encoded data removed]",
      "text/plain": [
       "<Figure size 432x288 with 1 Axes>"
      ]
     },
     "metadata": {
      "needs_background": "light"
     },
     "output_type": "display_data"
    }
   ],
   "source": [
    "plt.scatter(range(df.shape[0]), np.sort(df['Z_Profit'].values))\n",
    "plt.xlabel('Index')\n",
    "plt.ylabel('Z_Profit')\n",
    "plt.title(\"Profit distribution\")\n",
    "sns.despine()"
   ]
  },
  {
   "cell_type": "code",
   "execution_count": 65,
   "id": "77545251",
   "metadata": {},
   "outputs": [
    {
     "data": {
      "text/plain": [
       "(179, 23)"
      ]
     },
     "execution_count": 65,
     "metadata": {},
     "output_type": "execute_result"
    }
   ],
   "source": [
    "df.loc[(df['Z_Profit'] > 2) | (df['Z_Profit'] < -2)].shape"
   ]
  },
  {
   "cell_type": "code",
   "execution_count": 66,
   "id": "64709a60",
   "metadata": {},
   "outputs": [
    {
     "data": {
      "text/html": [
       "<div>\n",
       "<style scoped>\n",
       "    .dataframe tbody tr th:only-of-type {\n",
       "        vertical-align: middle;\n",
       "    }\n",
       "\n",
       "    .dataframe tbody tr th {\n",
       "        vertical-align: top;\n",
       "    }\n",
       "\n",
       "    .dataframe thead th {\n",
       "        text-align: right;\n",
       "    }\n",
       "</style>\n",
       "<table border=\"1\" class=\"dataframe\">\n",
       "  <thead>\n",
       "    <tr style=\"text-align: right;\">\n",
       "      <th></th>\n",
       "      <th>Row ID</th>\n",
       "      <th>Order ID</th>\n",
       "      <th>Order Date</th>\n",
       "      <th>Ship Date</th>\n",
       "      <th>Ship Mode</th>\n",
       "      <th>Customer ID</th>\n",
       "      <th>Customer Name</th>\n",
       "      <th>Segment</th>\n",
       "      <th>Country</th>\n",
       "      <th>City</th>\n",
       "      <th>...</th>\n",
       "      <th>Product ID</th>\n",
       "      <th>Category</th>\n",
       "      <th>Sub-Category</th>\n",
       "      <th>Product Name</th>\n",
       "      <th>Sales</th>\n",
       "      <th>Quantity</th>\n",
       "      <th>Discount</th>\n",
       "      <th>Profit</th>\n",
       "      <th>Z_Sales</th>\n",
       "      <th>Z_Profit</th>\n",
       "    </tr>\n",
       "  </thead>\n",
       "  <tbody>\n",
       "    <tr>\n",
       "      <th>27</th>\n",
       "      <td>28</td>\n",
       "      <td>US-2015-150630</td>\n",
       "      <td>2015-09-17</td>\n",
       "      <td>2015-09-21</td>\n",
       "      <td>Standard Class</td>\n",
       "      <td>TB-21520</td>\n",
       "      <td>Tracy Blumstein</td>\n",
       "      <td>Consumer</td>\n",
       "      <td>United States</td>\n",
       "      <td>Philadelphia</td>\n",
       "      <td>...</td>\n",
       "      <td>FUR-BO-10004834</td>\n",
       "      <td>Furniture</td>\n",
       "      <td>Bookcases</td>\n",
       "      <td>Riverside Palais Royal Lawyers Bookcase, Royal...</td>\n",
       "      <td>3083.430</td>\n",
       "      <td>7</td>\n",
       "      <td>0.5</td>\n",
       "      <td>-1665.0522</td>\n",
       "      <td>4.578571</td>\n",
       "      <td>-7.230036</td>\n",
       "    </tr>\n",
       "    <tr>\n",
       "      <th>149</th>\n",
       "      <td>150</td>\n",
       "      <td>CA-2016-114489</td>\n",
       "      <td>2016-12-05</td>\n",
       "      <td>2016-12-09</td>\n",
       "      <td>Standard Class</td>\n",
       "      <td>JE-16165</td>\n",
       "      <td>Justin Ellison</td>\n",
       "      <td>Corporate</td>\n",
       "      <td>United States</td>\n",
       "      <td>Franklin</td>\n",
       "      <td>...</td>\n",
       "      <td>FUR-CH-10000454</td>\n",
       "      <td>Furniture</td>\n",
       "      <td>Chairs</td>\n",
       "      <td>Hon Deluxe Fabric Upholstered Stacking Chairs,...</td>\n",
       "      <td>1951.840</td>\n",
       "      <td>8</td>\n",
       "      <td>0.0</td>\n",
       "      <td>585.5520</td>\n",
       "      <td>2.762929</td>\n",
       "      <td>2.377251</td>\n",
       "    </tr>\n",
       "    <tr>\n",
       "      <th>165</th>\n",
       "      <td>166</td>\n",
       "      <td>CA-2014-139892</td>\n",
       "      <td>2014-09-08</td>\n",
       "      <td>2014-09-12</td>\n",
       "      <td>Standard Class</td>\n",
       "      <td>BM-11140</td>\n",
       "      <td>Becky Martin</td>\n",
       "      <td>Consumer</td>\n",
       "      <td>United States</td>\n",
       "      <td>San Antonio</td>\n",
       "      <td>...</td>\n",
       "      <td>TEC-MA-10000822</td>\n",
       "      <td>Technology</td>\n",
       "      <td>Machines</td>\n",
       "      <td>Lexmark MX611dhe Monochrome Laser Printer</td>\n",
       "      <td>8159.952</td>\n",
       "      <td>8</td>\n",
       "      <td>0.4</td>\n",
       "      <td>-1359.9920</td>\n",
       "      <td>12.723877</td>\n",
       "      <td>-5.927808</td>\n",
       "    </tr>\n",
       "  </tbody>\n",
       "</table>\n",
       "<p>3 rows × 23 columns</p>\n",
       "</div>"
      ],
      "text/plain": [
       "     Row ID        Order ID Order Date  Ship Date       Ship Mode Customer ID  \\\n",
       "27       28  US-2015-150630 2015-09-17 2015-09-21  Standard Class    TB-21520   \n",
       "149     150  CA-2016-114489 2016-12-05 2016-12-09  Standard Class    JE-16165   \n",
       "165     166  CA-2014-139892 2014-09-08 2014-09-12  Standard Class    BM-11140   \n",
       "\n",
       "       Customer Name    Segment        Country          City  ...  \\\n",
       "27   Tracy Blumstein   Consumer  United States  Philadelphia  ...   \n",
       "149   Justin Ellison  Corporate  United States      Franklin  ...   \n",
       "165     Becky Martin   Consumer  United States   San Antonio  ...   \n",
       "\n",
       "          Product ID    Category Sub-Category  \\\n",
       "27   FUR-BO-10004834   Furniture    Bookcases   \n",
       "149  FUR-CH-10000454   Furniture       Chairs   \n",
       "165  TEC-MA-10000822  Technology     Machines   \n",
       "\n",
       "                                          Product Name     Sales Quantity  \\\n",
       "27   Riverside Palais Royal Lawyers Bookcase, Royal...  3083.430        7   \n",
       "149  Hon Deluxe Fabric Upholstered Stacking Chairs,...  1951.840        8   \n",
       "165          Lexmark MX611dhe Monochrome Laser Printer  8159.952        8   \n",
       "\n",
       "    Discount     Profit    Z_Sales  Z_Profit  \n",
       "27       0.5 -1665.0522   4.578571 -7.230036  \n",
       "149      0.0   585.5520   2.762929  2.377251  \n",
       "165      0.4 -1359.9920  12.723877 -5.927808  \n",
       "\n",
       "[3 rows x 23 columns]"
      ]
     },
     "execution_count": 66,
     "metadata": {},
     "output_type": "execute_result"
    }
   ],
   "source": [
    "df.loc[(df['Z_Profit'] > 2) | (df['Z_Profit'] < -2)].head(3)"
   ]
  },
  {
   "cell_type": "code",
   "execution_count": 58,
   "id": "786a28e4",
   "metadata": {},
   "outputs": [
    {
     "data": {
      "text/plain": [
       "Row ID                                                          28\n",
       "Order ID                                            US-2015-150630\n",
       "Order Date                                     2015-09-17 00:00:00\n",
       "Ship Date                                      2015-09-21 00:00:00\n",
       "Ship Mode                                           Standard Class\n",
       "Customer ID                                               TB-21520\n",
       "Customer Name                                      Tracy Blumstein\n",
       "Segment                                                   Consumer\n",
       "Country                                              United States\n",
       "City                                                  Philadelphia\n",
       "State                                                 Pennsylvania\n",
       "Postal Code                                                  19140\n",
       "Region                                                        East\n",
       "Product ID                                         FUR-BO-10004834\n",
       "Category                                                 Furniture\n",
       "Sub-Category                                             Bookcases\n",
       "Product Name     Riverside Palais Royal Lawyers Bookcase, Royal...\n",
       "Sales                                                      3083.43\n",
       "Quantity                                                         7\n",
       "Discount                                                       0.5\n",
       "Profit                                                  -1665.0522\n",
       "Z_Sales                                                   4.578571\n",
       "Z_Profit                                                 -7.230036\n",
       "Name: 27, dtype: object"
      ]
     },
     "execution_count": 58,
     "metadata": {},
     "output_type": "execute_result"
    }
   ],
   "source": [
    "df.iloc[27]"
   ]
  },
  {
   "cell_type": "markdown",
   "id": "67ca9a6e",
   "metadata": {},
   "source": [
    "## Boxplot "
   ]
  },
  {
   "cell_type": "code",
   "execution_count": 121,
   "id": "ea03dca6",
   "metadata": {},
   "outputs": [
    {
     "data": {
      "text/plain": [
       "<AxesSubplot:xlabel='Profit'>"
      ]
     },
     "execution_count": 121,
     "metadata": {},
     "output_type": "execute_result"
    },
    {
     "data": {
      "image/png": "[encoded data removed]",
      "text/plain": [
       "<Figure size 432x288 with 1 Axes>"
      ]
     },
     "metadata": {
      "needs_background": "light"
     },
     "output_type": "display_data"
    }
   ],
   "source": [
    "sns.boxplot(df['Profit'])"
   ]
  },
  {
   "cell_type": "code",
   "execution_count": 122,
   "id": "1e7c38ff",
   "metadata": {},
   "outputs": [
    {
     "data": {
      "image/png": "[encoded data removed]",
      "text/plain": [
       "<Figure size 720x288 with 1 Axes>"
      ]
     },
     "metadata": {
      "needs_background": "light"
     },
     "output_type": "display_data"
    }
   ],
   "source": [
    "isolation_forest = IsolationForest(n_estimators=100)\n",
    "isolation_forest.fit(df['Profit'].values.reshape(-1, 1))\n",
    "xx = np.linspace(df['Profit'].min(), df['Profit'].max(), len(df)).reshape(-1,1)\n",
    "anomaly_score = isolation_forest.decision_function(xx)\n",
    "outlier = isolation_forest.predict(xx)\n",
    "plt.figure(figsize=(10,4))\n",
    "plt.plot(xx, anomaly_score, label='anomaly score')\n",
    "plt.fill_between(xx.T[0], np.min(anomaly_score), np.max(anomaly_score), \n",
    "                 where=outlier==-1, color='r', \n",
    "                 alpha=.4, label='outlier region')\n",
    "plt.legend()\n",
    "plt.ylabel('anomaly score')\n",
    "plt.xlabel('Profit')\n",
    "plt.show();"
   ]
  },
  {
   "cell_type": "code",
   "execution_count": 123,
   "id": "bf2eec43",
   "metadata": {},
   "outputs": [
    {
     "data": {
      "text/html": [
       "<div>\n",
       "<style scoped>\n",
       "    .dataframe tbody tr th:only-of-type {\n",
       "        vertical-align: middle;\n",
       "    }\n",
       "\n",
       "    .dataframe tbody tr th {\n",
       "        vertical-align: top;\n",
       "    }\n",
       "\n",
       "    .dataframe thead th {\n",
       "        text-align: right;\n",
       "    }\n",
       "</style>\n",
       "<table border=\"1\" class=\"dataframe\">\n",
       "  <thead>\n",
       "    <tr style=\"text-align: right;\">\n",
       "      <th></th>\n",
       "      <th>Row ID</th>\n",
       "      <th>Order ID</th>\n",
       "      <th>Order Date</th>\n",
       "      <th>Ship Date</th>\n",
       "      <th>Ship Mode</th>\n",
       "      <th>Customer ID</th>\n",
       "      <th>Customer Name</th>\n",
       "      <th>Segment</th>\n",
       "      <th>Country</th>\n",
       "      <th>City</th>\n",
       "      <th>...</th>\n",
       "      <th>Product ID</th>\n",
       "      <th>Category</th>\n",
       "      <th>Sub-Category</th>\n",
       "      <th>Product Name</th>\n",
       "      <th>Sales</th>\n",
       "      <th>Quantity</th>\n",
       "      <th>Discount</th>\n",
       "      <th>Profit</th>\n",
       "      <th>Z_Sales</th>\n",
       "      <th>Z_Profit</th>\n",
       "    </tr>\n",
       "  </thead>\n",
       "  <tbody>\n",
       "    <tr>\n",
       "      <th>3</th>\n",
       "      <td>4</td>\n",
       "      <td>US-2015-108966</td>\n",
       "      <td>2015-10-11</td>\n",
       "      <td>2015-10-18</td>\n",
       "      <td>Standard Class</td>\n",
       "      <td>SO-20335</td>\n",
       "      <td>Sean O'Donnell</td>\n",
       "      <td>Consumer</td>\n",
       "      <td>United States</td>\n",
       "      <td>Fort Lauderdale</td>\n",
       "      <td>...</td>\n",
       "      <td>FUR-TA-10000577</td>\n",
       "      <td>Furniture</td>\n",
       "      <td>Tables</td>\n",
       "      <td>Bretford CR4500 Series Slim Rectangular Table</td>\n",
       "      <td>957.5775</td>\n",
       "      <td>5</td>\n",
       "      <td>0.45</td>\n",
       "      <td>-383.0310</td>\n",
       "      <td>1.167630</td>\n",
       "      <td>-1.757397</td>\n",
       "    </tr>\n",
       "    <tr>\n",
       "      <th>14</th>\n",
       "      <td>15</td>\n",
       "      <td>US-2015-118983</td>\n",
       "      <td>2015-11-22</td>\n",
       "      <td>2015-11-26</td>\n",
       "      <td>Standard Class</td>\n",
       "      <td>HP-14815</td>\n",
       "      <td>Harold Pawlan</td>\n",
       "      <td>Home Office</td>\n",
       "      <td>United States</td>\n",
       "      <td>Fort Worth</td>\n",
       "      <td>...</td>\n",
       "      <td>OFF-AP-10002311</td>\n",
       "      <td>Office Supplies</td>\n",
       "      <td>Appliances</td>\n",
       "      <td>Holmes Replacement Filter for HEPA Air Cleaner...</td>\n",
       "      <td>68.8100</td>\n",
       "      <td>5</td>\n",
       "      <td>0.80</td>\n",
       "      <td>-123.8580</td>\n",
       "      <td>-0.258402</td>\n",
       "      <td>-0.651049</td>\n",
       "    </tr>\n",
       "    <tr>\n",
       "      <th>27</th>\n",
       "      <td>28</td>\n",
       "      <td>US-2015-150630</td>\n",
       "      <td>2015-09-17</td>\n",
       "      <td>2015-09-21</td>\n",
       "      <td>Standard Class</td>\n",
       "      <td>TB-21520</td>\n",
       "      <td>Tracy Blumstein</td>\n",
       "      <td>Consumer</td>\n",
       "      <td>United States</td>\n",
       "      <td>Philadelphia</td>\n",
       "      <td>...</td>\n",
       "      <td>FUR-BO-10004834</td>\n",
       "      <td>Furniture</td>\n",
       "      <td>Bookcases</td>\n",
       "      <td>Riverside Palais Royal Lawyers Bookcase, Royal...</td>\n",
       "      <td>3083.4300</td>\n",
       "      <td>7</td>\n",
       "      <td>0.50</td>\n",
       "      <td>-1665.0522</td>\n",
       "      <td>4.578571</td>\n",
       "      <td>-7.230036</td>\n",
       "    </tr>\n",
       "    <tr>\n",
       "      <th>36</th>\n",
       "      <td>37</td>\n",
       "      <td>CA-2016-117590</td>\n",
       "      <td>2016-12-08</td>\n",
       "      <td>2016-12-10</td>\n",
       "      <td>First Class</td>\n",
       "      <td>GH-14485</td>\n",
       "      <td>Gene Hale</td>\n",
       "      <td>Corporate</td>\n",
       "      <td>United States</td>\n",
       "      <td>Richardson</td>\n",
       "      <td>...</td>\n",
       "      <td>FUR-FU-10003664</td>\n",
       "      <td>Furniture</td>\n",
       "      <td>Furnishings</td>\n",
       "      <td>Electrix Architect's Clamp-On Swing Arm Lamp, ...</td>\n",
       "      <td>190.9200</td>\n",
       "      <td>5</td>\n",
       "      <td>0.60</td>\n",
       "      <td>-147.9630</td>\n",
       "      <td>-0.062476</td>\n",
       "      <td>-0.753948</td>\n",
       "    </tr>\n",
       "    <tr>\n",
       "      <th>72</th>\n",
       "      <td>73</td>\n",
       "      <td>US-2015-134026</td>\n",
       "      <td>2015-04-26</td>\n",
       "      <td>2015-05-02</td>\n",
       "      <td>Standard Class</td>\n",
       "      <td>JE-15745</td>\n",
       "      <td>Joel Eaton</td>\n",
       "      <td>Consumer</td>\n",
       "      <td>United States</td>\n",
       "      <td>Memphis</td>\n",
       "      <td>...</td>\n",
       "      <td>FUR-CH-10000513</td>\n",
       "      <td>Furniture</td>\n",
       "      <td>Chairs</td>\n",
       "      <td>High-Back Leather Manager's Chair</td>\n",
       "      <td>831.9360</td>\n",
       "      <td>8</td>\n",
       "      <td>0.20</td>\n",
       "      <td>-114.3912</td>\n",
       "      <td>0.966037</td>\n",
       "      <td>-0.610638</td>\n",
       "    </tr>\n",
       "  </tbody>\n",
       "</table>\n",
       "<p>5 rows × 23 columns</p>\n",
       "</div>"
      ],
      "text/plain": [
       "    Row ID        Order ID Order Date  Ship Date       Ship Mode Customer ID  \\\n",
       "3        4  US-2015-108966 2015-10-11 2015-10-18  Standard Class    SO-20335   \n",
       "14      15  US-2015-118983 2015-11-22 2015-11-26  Standard Class    HP-14815   \n",
       "27      28  US-2015-150630 2015-09-17 2015-09-21  Standard Class    TB-21520   \n",
       "36      37  CA-2016-117590 2016-12-08 2016-12-10     First Class    GH-14485   \n",
       "72      73  US-2015-134026 2015-04-26 2015-05-02  Standard Class    JE-15745   \n",
       "\n",
       "      Customer Name      Segment        Country             City  ...  \\\n",
       "3    Sean O'Donnell     Consumer  United States  Fort Lauderdale  ...   \n",
       "14    Harold Pawlan  Home Office  United States       Fort Worth  ...   \n",
       "27  Tracy Blumstein     Consumer  United States     Philadelphia  ...   \n",
       "36        Gene Hale    Corporate  United States       Richardson  ...   \n",
       "72       Joel Eaton     Consumer  United States          Memphis  ...   \n",
       "\n",
       "         Product ID         Category Sub-Category  \\\n",
       "3   FUR-TA-10000577        Furniture       Tables   \n",
       "14  OFF-AP-10002311  Office Supplies   Appliances   \n",
       "27  FUR-BO-10004834        Furniture    Bookcases   \n",
       "36  FUR-FU-10003664        Furniture  Furnishings   \n",
       "72  FUR-CH-10000513        Furniture       Chairs   \n",
       "\n",
       "                                         Product Name      Sales Quantity  \\\n",
       "3       Bretford CR4500 Series Slim Rectangular Table   957.5775        5   \n",
       "14  Holmes Replacement Filter for HEPA Air Cleaner...    68.8100        5   \n",
       "27  Riverside Palais Royal Lawyers Bookcase, Royal...  3083.4300        7   \n",
       "36  Electrix Architect's Clamp-On Swing Arm Lamp, ...   190.9200        5   \n",
       "72                  High-Back Leather Manager's Chair   831.9360        8   \n",
       "\n",
       "   Discount     Profit   Z_Sales  Z_Profit  \n",
       "3      0.45  -383.0310  1.167630 -1.757397  \n",
       "14     0.80  -123.8580 -0.258402 -0.651049  \n",
       "27     0.50 -1665.0522  4.578571 -7.230036  \n",
       "36     0.60  -147.9630 -0.062476 -0.753948  \n",
       "72     0.20  -114.3912  0.966037 -0.610638  \n",
       "\n",
       "[5 rows x 23 columns]"
      ]
     },
     "execution_count": 123,
     "metadata": {},
     "output_type": "execute_result"
    }
   ],
   "source": [
    "df.loc[df['Profit'] < -100].head()"
   ]
  },
  {
   "cell_type": "code",
   "execution_count": 124,
   "id": "da2c4649",
   "metadata": {},
   "outputs": [
    {
     "data": {
      "text/plain": [
       "Row ID                                                       4\n",
       "Order ID                                        US-2015-108966\n",
       "Order Date                                 2015-10-11 00:00:00\n",
       "Ship Date                                  2015-10-18 00:00:00\n",
       "Ship Mode                                       Standard Class\n",
       "Customer ID                                           SO-20335\n",
       "Customer Name                                   Sean O'Donnell\n",
       "Segment                                               Consumer\n",
       "Country                                          United States\n",
       "City                                           Fort Lauderdale\n",
       "State                                                  Florida\n",
       "Postal Code                                              33311\n",
       "Region                                                   South\n",
       "Product ID                                     FUR-TA-10000577\n",
       "Category                                             Furniture\n",
       "Sub-Category                                            Tables\n",
       "Product Name     Bretford CR4500 Series Slim Rectangular Table\n",
       "Sales                                                 957.5775\n",
       "Quantity                                                     5\n",
       "Discount                                                  0.45\n",
       "Profit                                                -383.031\n",
       "Z_Sales                                                1.16763\n",
       "Z_Profit                                             -1.757397\n",
       "Name: 3, dtype: object"
      ]
     },
     "execution_count": 124,
     "metadata": {},
     "output_type": "execute_result"
    }
   ],
   "source": [
    "df.iloc[3]"
   ]
  },
  {
   "cell_type": "code",
   "execution_count": 125,
   "id": "244f8ffd",
   "metadata": {},
   "outputs": [
    {
     "data": {
      "text/html": [
       "<div>\n",
       "<style scoped>\n",
       "    .dataframe tbody tr th:only-of-type {\n",
       "        vertical-align: middle;\n",
       "    }\n",
       "\n",
       "    .dataframe tbody tr th {\n",
       "        vertical-align: top;\n",
       "    }\n",
       "\n",
       "    .dataframe thead th {\n",
       "        text-align: right;\n",
       "    }\n",
       "</style>\n",
       "<table border=\"1\" class=\"dataframe\">\n",
       "  <thead>\n",
       "    <tr style=\"text-align: right;\">\n",
       "      <th></th>\n",
       "      <th>Row ID</th>\n",
       "      <th>Order ID</th>\n",
       "      <th>Order Date</th>\n",
       "      <th>Ship Date</th>\n",
       "      <th>Ship Mode</th>\n",
       "      <th>Customer ID</th>\n",
       "      <th>Customer Name</th>\n",
       "      <th>Segment</th>\n",
       "      <th>Country</th>\n",
       "      <th>City</th>\n",
       "      <th>...</th>\n",
       "      <th>Product ID</th>\n",
       "      <th>Category</th>\n",
       "      <th>Sub-Category</th>\n",
       "      <th>Product Name</th>\n",
       "      <th>Sales</th>\n",
       "      <th>Quantity</th>\n",
       "      <th>Discount</th>\n",
       "      <th>Profit</th>\n",
       "      <th>Z_Sales</th>\n",
       "      <th>Z_Profit</th>\n",
       "    </tr>\n",
       "  </thead>\n",
       "  <tbody>\n",
       "    <tr>\n",
       "      <th>1</th>\n",
       "      <td>2</td>\n",
       "      <td>CA-2016-152156</td>\n",
       "      <td>2016-11-08</td>\n",
       "      <td>2016-11-11</td>\n",
       "      <td>Second Class</td>\n",
       "      <td>CG-12520</td>\n",
       "      <td>Claire Gute</td>\n",
       "      <td>Consumer</td>\n",
       "      <td>United States</td>\n",
       "      <td>Henderson</td>\n",
       "      <td>...</td>\n",
       "      <td>FUR-CH-10000454</td>\n",
       "      <td>Furniture</td>\n",
       "      <td>Chairs</td>\n",
       "      <td>Hon Deluxe Fabric Upholstered Stacking Chairs,...</td>\n",
       "      <td>731.94</td>\n",
       "      <td>3</td>\n",
       "      <td>0.0</td>\n",
       "      <td>219.5820</td>\n",
       "      <td>0.805593</td>\n",
       "      <td>0.815013</td>\n",
       "    </tr>\n",
       "    <tr>\n",
       "      <th>24</th>\n",
       "      <td>25</td>\n",
       "      <td>CA-2015-106320</td>\n",
       "      <td>2015-09-25</td>\n",
       "      <td>2015-09-30</td>\n",
       "      <td>Standard Class</td>\n",
       "      <td>EB-13870</td>\n",
       "      <td>Emily Burns</td>\n",
       "      <td>Consumer</td>\n",
       "      <td>United States</td>\n",
       "      <td>Orem</td>\n",
       "      <td>...</td>\n",
       "      <td>FUR-TA-10000577</td>\n",
       "      <td>Furniture</td>\n",
       "      <td>Tables</td>\n",
       "      <td>Bretford CR4500 Series Slim Rectangular Table</td>\n",
       "      <td>1044.63</td>\n",
       "      <td>3</td>\n",
       "      <td>0.0</td>\n",
       "      <td>240.2649</td>\n",
       "      <td>1.307306</td>\n",
       "      <td>0.903304</td>\n",
       "    </tr>\n",
       "    <tr>\n",
       "      <th>54</th>\n",
       "      <td>55</td>\n",
       "      <td>CA-2016-105816</td>\n",
       "      <td>2016-12-11</td>\n",
       "      <td>2016-12-17</td>\n",
       "      <td>Standard Class</td>\n",
       "      <td>JM-15265</td>\n",
       "      <td>Janet Molinari</td>\n",
       "      <td>Corporate</td>\n",
       "      <td>United States</td>\n",
       "      <td>New York City</td>\n",
       "      <td>...</td>\n",
       "      <td>TEC-PH-10002447</td>\n",
       "      <td>Technology</td>\n",
       "      <td>Phones</td>\n",
       "      <td>AT&amp;T CL83451 4-Handset Telephone</td>\n",
       "      <td>1029.95</td>\n",
       "      <td>5</td>\n",
       "      <td>0.0</td>\n",
       "      <td>298.6855</td>\n",
       "      <td>1.283752</td>\n",
       "      <td>1.152687</td>\n",
       "    </tr>\n",
       "    <tr>\n",
       "      <th>144</th>\n",
       "      <td>145</td>\n",
       "      <td>CA-2017-155376</td>\n",
       "      <td>2017-12-22</td>\n",
       "      <td>2017-12-27</td>\n",
       "      <td>Standard Class</td>\n",
       "      <td>SG-20080</td>\n",
       "      <td>Sandra Glassco</td>\n",
       "      <td>Consumer</td>\n",
       "      <td>United States</td>\n",
       "      <td>Independence</td>\n",
       "      <td>...</td>\n",
       "      <td>OFF-AP-10001058</td>\n",
       "      <td>Office Supplies</td>\n",
       "      <td>Appliances</td>\n",
       "      <td>Sanyo 2.5 Cubic Foot Mid-Size Office Refrigera...</td>\n",
       "      <td>839.43</td>\n",
       "      <td>3</td>\n",
       "      <td>0.0</td>\n",
       "      <td>218.2518</td>\n",
       "      <td>0.978061</td>\n",
       "      <td>0.809335</td>\n",
       "    </tr>\n",
       "    <tr>\n",
       "      <th>149</th>\n",
       "      <td>150</td>\n",
       "      <td>CA-2016-114489</td>\n",
       "      <td>2016-12-05</td>\n",
       "      <td>2016-12-09</td>\n",
       "      <td>Standard Class</td>\n",
       "      <td>JE-16165</td>\n",
       "      <td>Justin Ellison</td>\n",
       "      <td>Corporate</td>\n",
       "      <td>United States</td>\n",
       "      <td>Franklin</td>\n",
       "      <td>...</td>\n",
       "      <td>FUR-CH-10000454</td>\n",
       "      <td>Furniture</td>\n",
       "      <td>Chairs</td>\n",
       "      <td>Hon Deluxe Fabric Upholstered Stacking Chairs,...</td>\n",
       "      <td>1951.84</td>\n",
       "      <td>8</td>\n",
       "      <td>0.0</td>\n",
       "      <td>585.5520</td>\n",
       "      <td>2.762929</td>\n",
       "      <td>2.377251</td>\n",
       "    </tr>\n",
       "  </tbody>\n",
       "</table>\n",
       "<p>5 rows × 23 columns</p>\n",
       "</div>"
      ],
      "text/plain": [
       "     Row ID        Order ID Order Date  Ship Date       Ship Mode Customer ID  \\\n",
       "1         2  CA-2016-152156 2016-11-08 2016-11-11    Second Class    CG-12520   \n",
       "24       25  CA-2015-106320 2015-09-25 2015-09-30  Standard Class    EB-13870   \n",
       "54       55  CA-2016-105816 2016-12-11 2016-12-17  Standard Class    JM-15265   \n",
       "144     145  CA-2017-155376 2017-12-22 2017-12-27  Standard Class    SG-20080   \n",
       "149     150  CA-2016-114489 2016-12-05 2016-12-09  Standard Class    JE-16165   \n",
       "\n",
       "      Customer Name    Segment        Country           City  ...  \\\n",
       "1       Claire Gute   Consumer  United States      Henderson  ...   \n",
       "24      Emily Burns   Consumer  United States           Orem  ...   \n",
       "54   Janet Molinari  Corporate  United States  New York City  ...   \n",
       "144  Sandra Glassco   Consumer  United States   Independence  ...   \n",
       "149  Justin Ellison  Corporate  United States       Franklin  ...   \n",
       "\n",
       "          Product ID         Category Sub-Category  \\\n",
       "1    FUR-CH-10000454        Furniture       Chairs   \n",
       "24   FUR-TA-10000577        Furniture       Tables   \n",
       "54   TEC-PH-10002447       Technology       Phones   \n",
       "144  OFF-AP-10001058  Office Supplies   Appliances   \n",
       "149  FUR-CH-10000454        Furniture       Chairs   \n",
       "\n",
       "                                          Product Name    Sales Quantity  \\\n",
       "1    Hon Deluxe Fabric Upholstered Stacking Chairs,...   731.94        3   \n",
       "24       Bretford CR4500 Series Slim Rectangular Table  1044.63        3   \n",
       "54                    AT&T CL83451 4-Handset Telephone  1029.95        5   \n",
       "144  Sanyo 2.5 Cubic Foot Mid-Size Office Refrigera...   839.43        3   \n",
       "149  Hon Deluxe Fabric Upholstered Stacking Chairs,...  1951.84        8   \n",
       "\n",
       "    Discount    Profit   Z_Sales  Z_Profit  \n",
       "1        0.0  219.5820  0.805593  0.815013  \n",
       "24       0.0  240.2649  1.307306  0.903304  \n",
       "54       0.0  298.6855  1.283752  1.152687  \n",
       "144      0.0  218.2518  0.978061  0.809335  \n",
       "149      0.0  585.5520  2.762929  2.377251  \n",
       "\n",
       "[5 rows x 23 columns]"
      ]
     },
     "execution_count": 125,
     "metadata": {},
     "output_type": "execute_result"
    }
   ],
   "source": [
    "df.loc[df['Profit'] > 200].head()"
   ]
  },
  {
   "cell_type": "code",
   "execution_count": 126,
   "id": "e674941f",
   "metadata": {},
   "outputs": [
    {
     "data": {
      "text/plain": [
       "Row ID                                                           2\n",
       "Order ID                                            CA-2016-152156\n",
       "Order Date                                     2016-11-08 00:00:00\n",
       "Ship Date                                      2016-11-11 00:00:00\n",
       "Ship Mode                                             Second Class\n",
       "Customer ID                                               CG-12520\n",
       "Customer Name                                          Claire Gute\n",
       "Segment                                                   Consumer\n",
       "Country                                              United States\n",
       "City                                                     Henderson\n",
       "State                                                     Kentucky\n",
       "Postal Code                                                  42420\n",
       "Region                                                       South\n",
       "Product ID                                         FUR-CH-10000454\n",
       "Category                                                 Furniture\n",
       "Sub-Category                                                Chairs\n",
       "Product Name     Hon Deluxe Fabric Upholstered Stacking Chairs,...\n",
       "Sales                                                       731.94\n",
       "Quantity                                                         3\n",
       "Discount                                                       0.0\n",
       "Profit                                                     219.582\n",
       "Z_Sales                                                   0.805593\n",
       "Z_Profit                                                  0.815013\n",
       "Name: 1, dtype: object"
      ]
     },
     "execution_count": 126,
     "metadata": {},
     "output_type": "execute_result"
    }
   ],
   "source": [
    "df.iloc[1]"
   ]
  },
  {
   "cell_type": "markdown",
   "id": "a5687c3d",
   "metadata": {},
   "source": [
    "# Multivariate Anomaly Detection"
   ]
  },
  {
   "cell_type": "markdown",
   "id": "a92ed5f0",
   "metadata": {},
   "source": [
    "## Sales & Profit "
   ]
  },
  {
   "cell_type": "code",
   "execution_count": 127,
   "id": "9f0140bf",
   "metadata": {},
   "outputs": [
    {
     "data": {
      "text/plain": [
       "<AxesSubplot:xlabel='Sales', ylabel='Profit'>"
      ]
     },
     "execution_count": 127,
     "metadata": {},
     "output_type": "execute_result"
    },
    {
     "data": {
      "image/png": "[encoded data removed]",
      "text/plain": [
       "<Figure size 432x288 with 1 Axes>"
      ]
     },
     "metadata": {
      "needs_background": "light"
     },
     "output_type": "display_data"
    }
   ],
   "source": [
    "sns.regplot(x=\"Sales\", y=\"Profit\", data=df)"
   ]
  },
  {
   "cell_type": "code",
   "execution_count": null,
   "id": "7f6d5d7a",
   "metadata": {},
   "outputs": [],
   "source": []
  }
 ],
 "metadata": {
  "kernelspec": {
   "display_name": "Python 3 (ipykernel)",
   "language": "python",
   "name": "python3"
  },
  "language_info": {
   "codemirror_mode": {
    "name": "ipython",
    "version": 3
   },
   "file_extension": ".py",
   "mimetype": "text/x-python",
   "name": "python",
   "nbconvert_exporter": "python",
   "pygments_lexer": "ipython3",
   "version": "3.9.7"
  }
 },
 "nbformat": 4,
 "nbformat_minor": 5
}
